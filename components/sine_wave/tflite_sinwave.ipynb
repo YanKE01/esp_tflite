{
  "nbformat": 4,
  "nbformat_minor": 0,
  "metadata": {
    "colab": {
      "provenance": []
    },
    "kernelspec": {
      "name": "python3",
      "display_name": "Python 3"
    },
    "language_info": {
      "name": "python"
    }
  },
  "cells": [
    {
      "cell_type": "code",
      "execution_count": null,
      "metadata": {
        "id": "vhmSZLF-KLGJ"
      },
      "outputs": [],
      "source": [
        "import numpy as np\n",
        "import tensorflow as tf\n",
        "from tensorflow.keras.models import Sequential\n",
        "from tensorflow.keras.layers import Dense, Flatten\n",
        "import matplotlib.pyplot as plt\n",
        "import math\n",
        "from sklearn.model_selection import train_test_split"
      ]
    },
    {
      "cell_type": "code",
      "source": [
        "x_values = np.arange(0,2*math.pi,0.001)\n",
        "\n",
        "np.random.shuffle(x_values)\n",
        "y_values = np.sin(x_values)\n",
        "y_values += 0.1 * np.random.randn(*y_values.shape)\n",
        "\n",
        "x_train,x_test,y_train,y_test = train_test_split(x_values,y_values,test_size=0.3)\n",
        "\n",
        "plt.plot(x_values, y_values, 'b.')\n",
        "plt.show()\n"
      ],
      "metadata": {
        "colab": {
          "base_uri": "https://localhost:8080/",
          "height": 430
        },
        "id": "FI_8N8_ELHiW",
        "outputId": "8d91f0e9-26ae-4e2d-ccec-7d5416625fb5"
      },
      "execution_count": null,
      "outputs": [
        {
          "output_type": "display_data",
          "data": {
            "text/plain": [
              "<Figure size 640x480 with 1 Axes>"
            ],
            "image/png": "[encoded data removed]"
          },
          "metadata": {}
        }
      ]
    },
    {
      "cell_type": "code",
      "source": [
        "model = tf.keras.Sequential()\n",
        "model.add(Dense(32, activation='relu', input_shape=(1,)))\n",
        "model.add(Dense(16, activation='relu'))\n",
        "model.add(Dense(1,activation='linear'))\n",
        "\n",
        "print(model.summary())\n"
      ],
      "metadata": {
        "id": "40QaCaKeLV5G",
        "colab": {
          "base_uri": "https://localhost:8080/"
        },
        "outputId": "1bc2b360-4bb6-4d03-91f6-b3f78e6772d6"
      },
      "execution_count": null,
      "outputs": [
        {
          "output_type": "stream",
          "name": "stdout",
          "text": [
            "Model: \"sequential_14\"\n",
            "_________________________________________________________________\n",
            " Layer (type)                Output Shape              Param #   \n",
            "=================================================================\n",
            " dense_39 (Dense)            (None, 32)                64        \n",
            "                                                                 \n",
            " dense_40 (Dense)            (None, 16)                528       \n",
            "                                                                 \n",
            " dense_41 (Dense)            (None, 1)                 17        \n",
            "                                                                 \n",
            "=================================================================\n",
            "Total params: 609 (2.38 KB)\n",
            "Trainable params: 609 (2.38 KB)\n",
            "Non-trainable params: 0 (0.00 Byte)\n",
            "_________________________________________________________________\n",
            "None\n"
          ]
        }
      ]
    },
    {
      "cell_type": "code",
      "source": [
        "model.compile(optimizer='adam', loss='mse', metrics=['mae'])\n",
        "model.fit(x_train, y_train, epochs=100, batch_size=128, validation_data=(x_test, y_test))"
      ],
      "metadata": {
        "colab": {
          "base_uri": "https://localhost:8080/"
        },
        "id": "bfFeduGTLa49",
        "outputId": "399443f1-f9f3-427e-c478-94caef4e5add"
      },
      "execution_count": null,
      "outputs": [
        {
          "output_type": "stream",
          "name": "stdout",
          "text": [
            "Epoch 1/100\n",
            "35/35 [==============================] - 2s 13ms/step - loss: 0.1485 - mae: 0.3246 - val_loss: 0.1414 - val_mae: 0.3133\n",
            "Epoch 2/100\n",
            "35/35 [==============================] - 0s 5ms/step - loss: 0.1345 - mae: 0.3015 - val_loss: 0.1326 - val_mae: 0.2919\n",
            "Epoch 3/100\n",
            "35/35 [==============================] - 0s 4ms/step - loss: 0.1274 - mae: 0.2840 - val_loss: 0.1280 - val_mae: 0.2792\n",
            "Epoch 4/100\n",
            "35/35 [==============================] - 0s 5ms/step - loss: 0.1251 - mae: 0.2764 - val_loss: 0.1285 - val_mae: 0.2727\n",
            "Epoch 5/100\n",
            "35/35 [==============================] - 0s 5ms/step - loss: 0.1206 - mae: 0.2687 - val_loss: 0.1220 - val_mae: 0.2672\n",
            "Epoch 6/100\n",
            "35/35 [==============================] - 0s 5ms/step - loss: 0.1177 - mae: 0.2648 - val_loss: 0.1201 - val_mae: 0.2630\n",
            "Epoch 7/100\n",
            "35/35 [==============================] - 0s 5ms/step - loss: 0.1153 - mae: 0.2611 - val_loss: 0.1164 - val_mae: 0.2585\n",
            "Epoch 8/100\n",
            "35/35 [==============================] - 0s 4ms/step - loss: 0.1124 - mae: 0.2562 - val_loss: 0.1129 - val_mae: 0.2568\n",
            "Epoch 9/100\n",
            "35/35 [==============================] - 0s 4ms/step - loss: 0.1105 - mae: 0.2534 - val_loss: 0.1093 - val_mae: 0.2518\n",
            "Epoch 10/100\n",
            "35/35 [==============================] - 0s 4ms/step - loss: 0.1051 - mae: 0.2464 - val_loss: 0.1058 - val_mae: 0.2455\n",
            "Epoch 11/100\n",
            "35/35 [==============================] - 0s 5ms/step - loss: 0.1013 - mae: 0.2413 - val_loss: 0.1041 - val_mae: 0.2400\n",
            "Epoch 12/100\n",
            "35/35 [==============================] - 0s 4ms/step - loss: 0.0985 - mae: 0.2356 - val_loss: 0.0992 - val_mae: 0.2377\n",
            "Epoch 13/100\n",
            "35/35 [==============================] - 0s 5ms/step - loss: 0.0941 - mae: 0.2307 - val_loss: 0.0950 - val_mae: 0.2286\n",
            "Epoch 14/100\n",
            "35/35 [==============================] - 0s 3ms/step - loss: 0.0903 - mae: 0.2258 - val_loss: 0.0925 - val_mae: 0.2213\n",
            "Epoch 15/100\n",
            "35/35 [==============================] - 0s 5ms/step - loss: 0.0871 - mae: 0.2197 - val_loss: 0.0877 - val_mae: 0.2179\n",
            "Epoch 16/100\n",
            "35/35 [==============================] - 0s 4ms/step - loss: 0.0829 - mae: 0.2143 - val_loss: 0.0841 - val_mae: 0.2131\n",
            "Epoch 17/100\n",
            "35/35 [==============================] - 0s 4ms/step - loss: 0.0795 - mae: 0.2093 - val_loss: 0.0795 - val_mae: 0.2077\n",
            "Epoch 18/100\n",
            "35/35 [==============================] - 0s 5ms/step - loss: 0.0754 - mae: 0.2032 - val_loss: 0.0755 - val_mae: 0.2010\n",
            "Epoch 19/100\n",
            "35/35 [==============================] - 0s 4ms/step - loss: 0.0711 - mae: 0.1961 - val_loss: 0.0713 - val_mae: 0.1937\n",
            "Epoch 20/100\n",
            "35/35 [==============================] - 0s 4ms/step - loss: 0.0672 - mae: 0.1898 - val_loss: 0.0675 - val_mae: 0.1913\n",
            "Epoch 21/100\n",
            "35/35 [==============================] - 0s 3ms/step - loss: 0.0628 - mae: 0.1846 - val_loss: 0.0648 - val_mae: 0.1800\n",
            "Epoch 22/100\n",
            "35/35 [==============================] - 0s 4ms/step - loss: 0.0590 - mae: 0.1768 - val_loss: 0.0585 - val_mae: 0.1756\n",
            "Epoch 23/100\n",
            "35/35 [==============================] - 0s 5ms/step - loss: 0.0544 - mae: 0.1708 - val_loss: 0.0542 - val_mae: 0.1696\n",
            "Epoch 24/100\n",
            "35/35 [==============================] - 0s 4ms/step - loss: 0.0499 - mae: 0.1631 - val_loss: 0.0497 - val_mae: 0.1640\n",
            "Epoch 25/100\n",
            "35/35 [==============================] - 0s 4ms/step - loss: 0.0456 - mae: 0.1564 - val_loss: 0.0455 - val_mae: 0.1564\n",
            "Epoch 26/100\n",
            "35/35 [==============================] - 0s 5ms/step - loss: 0.0418 - mae: 0.1486 - val_loss: 0.0417 - val_mae: 0.1530\n",
            "Epoch 27/100\n",
            "35/35 [==============================] - 0s 4ms/step - loss: 0.0373 - mae: 0.1419 - val_loss: 0.0371 - val_mae: 0.1396\n",
            "Epoch 28/100\n",
            "35/35 [==============================] - 0s 4ms/step - loss: 0.0335 - mae: 0.1347 - val_loss: 0.0331 - val_mae: 0.1362\n",
            "Epoch 29/100\n",
            "35/35 [==============================] - 0s 5ms/step - loss: 0.0297 - mae: 0.1279 - val_loss: 0.0299 - val_mae: 0.1267\n",
            "Epoch 30/100\n",
            "35/35 [==============================] - 0s 5ms/step - loss: 0.0273 - mae: 0.1231 - val_loss: 0.0282 - val_mae: 0.1300\n",
            "Epoch 31/100\n",
            "35/35 [==============================] - 0s 4ms/step - loss: 0.0247 - mae: 0.1187 - val_loss: 0.0249 - val_mae: 0.1186\n",
            "Epoch 32/100\n",
            "35/35 [==============================] - 0s 4ms/step - loss: 0.0220 - mae: 0.1121 - val_loss: 0.0220 - val_mae: 0.1150\n",
            "Epoch 33/100\n",
            "35/35 [==============================] - 0s 5ms/step - loss: 0.0196 - mae: 0.1065 - val_loss: 0.0208 - val_mae: 0.1130\n",
            "Epoch 34/100\n",
            "35/35 [==============================] - 0s 5ms/step - loss: 0.0187 - mae: 0.1051 - val_loss: 0.0186 - val_mae: 0.1060\n",
            "Epoch 35/100\n",
            "35/35 [==============================] - 0s 5ms/step - loss: 0.0170 - mae: 0.1005 - val_loss: 0.0173 - val_mae: 0.1031\n",
            "Epoch 36/100\n",
            "35/35 [==============================] - 0s 5ms/step - loss: 0.0159 - mae: 0.0978 - val_loss: 0.0168 - val_mae: 0.1004\n",
            "Epoch 37/100\n",
            "35/35 [==============================] - 0s 5ms/step - loss: 0.0152 - mae: 0.0957 - val_loss: 0.0158 - val_mae: 0.0992\n",
            "Epoch 38/100\n",
            "35/35 [==============================] - 0s 4ms/step - loss: 0.0142 - mae: 0.0935 - val_loss: 0.0148 - val_mae: 0.0961\n",
            "Epoch 39/100\n",
            "35/35 [==============================] - 0s 5ms/step - loss: 0.0137 - mae: 0.0923 - val_loss: 0.0143 - val_mae: 0.0945\n",
            "Epoch 40/100\n",
            "35/35 [==============================] - 0s 4ms/step - loss: 0.0132 - mae: 0.0907 - val_loss: 0.0138 - val_mae: 0.0931\n",
            "Epoch 41/100\n",
            "35/35 [==============================] - 0s 3ms/step - loss: 0.0129 - mae: 0.0897 - val_loss: 0.0134 - val_mae: 0.0927\n",
            "Epoch 42/100\n",
            "35/35 [==============================] - 0s 3ms/step - loss: 0.0125 - mae: 0.0886 - val_loss: 0.0139 - val_mae: 0.0943\n",
            "Epoch 43/100\n",
            "35/35 [==============================] - 0s 4ms/step - loss: 0.0123 - mae: 0.0877 - val_loss: 0.0133 - val_mae: 0.0924\n",
            "Epoch 44/100\n",
            "35/35 [==============================] - 0s 4ms/step - loss: 0.0122 - mae: 0.0875 - val_loss: 0.0125 - val_mae: 0.0895\n",
            "Epoch 45/100\n",
            "35/35 [==============================] - 0s 5ms/step - loss: 0.0117 - mae: 0.0858 - val_loss: 0.0135 - val_mae: 0.0927\n",
            "Epoch 46/100\n",
            "35/35 [==============================] - 0s 5ms/step - loss: 0.0117 - mae: 0.0862 - val_loss: 0.0130 - val_mae: 0.0912\n",
            "Epoch 47/100\n",
            "35/35 [==============================] - 0s 4ms/step - loss: 0.0115 - mae: 0.0854 - val_loss: 0.0120 - val_mae: 0.0877\n",
            "Epoch 48/100\n",
            "35/35 [==============================] - 0s 4ms/step - loss: 0.0113 - mae: 0.0844 - val_loss: 0.0121 - val_mae: 0.0879\n",
            "Epoch 49/100\n",
            "35/35 [==============================] - 0s 5ms/step - loss: 0.0113 - mae: 0.0845 - val_loss: 0.0118 - val_mae: 0.0871\n",
            "Epoch 50/100\n",
            "35/35 [==============================] - 0s 4ms/step - loss: 0.0110 - mae: 0.0834 - val_loss: 0.0120 - val_mae: 0.0875\n",
            "Epoch 51/100\n",
            "35/35 [==============================] - 0s 5ms/step - loss: 0.0111 - mae: 0.0840 - val_loss: 0.0122 - val_mae: 0.0884\n",
            "Epoch 52/100\n",
            "35/35 [==============================] - 0s 3ms/step - loss: 0.0109 - mae: 0.0829 - val_loss: 0.0116 - val_mae: 0.0862\n",
            "Epoch 53/100\n",
            "35/35 [==============================] - 0s 4ms/step - loss: 0.0107 - mae: 0.0825 - val_loss: 0.0117 - val_mae: 0.0864\n",
            "Epoch 54/100\n",
            "35/35 [==============================] - 0s 5ms/step - loss: 0.0108 - mae: 0.0826 - val_loss: 0.0111 - val_mae: 0.0845\n",
            "Epoch 55/100\n",
            "35/35 [==============================] - 0s 6ms/step - loss: 0.0107 - mae: 0.0823 - val_loss: 0.0111 - val_mae: 0.0842\n",
            "Epoch 56/100\n",
            "35/35 [==============================] - 0s 6ms/step - loss: 0.0107 - mae: 0.0823 - val_loss: 0.0111 - val_mae: 0.0846\n",
            "Epoch 57/100\n",
            "35/35 [==============================] - 0s 5ms/step - loss: 0.0105 - mae: 0.0818 - val_loss: 0.0113 - val_mae: 0.0852\n",
            "Epoch 58/100\n",
            "35/35 [==============================] - 0s 6ms/step - loss: 0.0107 - mae: 0.0823 - val_loss: 0.0109 - val_mae: 0.0839\n",
            "Epoch 59/100\n",
            "35/35 [==============================] - 0s 6ms/step - loss: 0.0105 - mae: 0.0818 - val_loss: 0.0110 - val_mae: 0.0841\n",
            "Epoch 60/100\n",
            "35/35 [==============================] - 0s 5ms/step - loss: 0.0106 - mae: 0.0820 - val_loss: 0.0115 - val_mae: 0.0860\n",
            "Epoch 61/100\n",
            "35/35 [==============================] - 0s 6ms/step - loss: 0.0106 - mae: 0.0821 - val_loss: 0.0109 - val_mae: 0.0837\n",
            "Epoch 62/100\n",
            "35/35 [==============================] - 0s 6ms/step - loss: 0.0106 - mae: 0.0817 - val_loss: 0.0112 - val_mae: 0.0848\n",
            "Epoch 63/100\n",
            "35/35 [==============================] - 0s 6ms/step - loss: 0.0107 - mae: 0.0824 - val_loss: 0.0114 - val_mae: 0.0853\n",
            "Epoch 64/100\n",
            "35/35 [==============================] - 0s 6ms/step - loss: 0.0106 - mae: 0.0824 - val_loss: 0.0117 - val_mae: 0.0865\n",
            "Epoch 65/100\n",
            "35/35 [==============================] - 0s 5ms/step - loss: 0.0106 - mae: 0.0820 - val_loss: 0.0108 - val_mae: 0.0832\n",
            "Epoch 66/100\n",
            "35/35 [==============================] - 0s 5ms/step - loss: 0.0103 - mae: 0.0810 - val_loss: 0.0107 - val_mae: 0.0832\n",
            "Epoch 67/100\n",
            "35/35 [==============================] - 0s 6ms/step - loss: 0.0103 - mae: 0.0809 - val_loss: 0.0113 - val_mae: 0.0850\n",
            "Epoch 68/100\n",
            "35/35 [==============================] - 0s 5ms/step - loss: 0.0104 - mae: 0.0815 - val_loss: 0.0109 - val_mae: 0.0836\n",
            "Epoch 69/100\n",
            "35/35 [==============================] - 0s 5ms/step - loss: 0.0104 - mae: 0.0815 - val_loss: 0.0113 - val_mae: 0.0853\n",
            "Epoch 70/100\n",
            "35/35 [==============================] - 0s 6ms/step - loss: 0.0109 - mae: 0.0832 - val_loss: 0.0114 - val_mae: 0.0854\n",
            "Epoch 71/100\n",
            "35/35 [==============================] - 0s 7ms/step - loss: 0.0103 - mae: 0.0808 - val_loss: 0.0110 - val_mae: 0.0840\n",
            "Epoch 72/100\n",
            "35/35 [==============================] - 0s 6ms/step - loss: 0.0104 - mae: 0.0811 - val_loss: 0.0109 - val_mae: 0.0838\n",
            "Epoch 73/100\n",
            "35/35 [==============================] - 0s 5ms/step - loss: 0.0105 - mae: 0.0819 - val_loss: 0.0107 - val_mae: 0.0831\n",
            "Epoch 74/100\n",
            "35/35 [==============================] - 0s 4ms/step - loss: 0.0106 - mae: 0.0819 - val_loss: 0.0112 - val_mae: 0.0848\n",
            "Epoch 75/100\n",
            "35/35 [==============================] - 0s 5ms/step - loss: 0.0104 - mae: 0.0814 - val_loss: 0.0109 - val_mae: 0.0839\n",
            "Epoch 76/100\n",
            "35/35 [==============================] - 0s 5ms/step - loss: 0.0103 - mae: 0.0810 - val_loss: 0.0109 - val_mae: 0.0838\n",
            "Epoch 77/100\n",
            "35/35 [==============================] - 0s 5ms/step - loss: 0.0103 - mae: 0.0807 - val_loss: 0.0112 - val_mae: 0.0848\n",
            "Epoch 78/100\n",
            "35/35 [==============================] - 0s 4ms/step - loss: 0.0102 - mae: 0.0808 - val_loss: 0.0109 - val_mae: 0.0838\n",
            "Epoch 79/100\n",
            "35/35 [==============================] - 0s 4ms/step - loss: 0.0104 - mae: 0.0813 - val_loss: 0.0107 - val_mae: 0.0828\n",
            "Epoch 80/100\n",
            "35/35 [==============================] - 0s 5ms/step - loss: 0.0102 - mae: 0.0807 - val_loss: 0.0107 - val_mae: 0.0828\n",
            "Epoch 81/100\n",
            "35/35 [==============================] - 0s 3ms/step - loss: 0.0104 - mae: 0.0814 - val_loss: 0.0107 - val_mae: 0.0831\n",
            "Epoch 82/100\n",
            "35/35 [==============================] - 0s 4ms/step - loss: 0.0103 - mae: 0.0808 - val_loss: 0.0108 - val_mae: 0.0833\n",
            "Epoch 83/100\n",
            "35/35 [==============================] - 0s 6ms/step - loss: 0.0103 - mae: 0.0811 - val_loss: 0.0108 - val_mae: 0.0834\n",
            "Epoch 84/100\n",
            "35/35 [==============================] - 0s 8ms/step - loss: 0.0103 - mae: 0.0811 - val_loss: 0.0112 - val_mae: 0.0846\n",
            "Epoch 85/100\n",
            "35/35 [==============================] - 0s 9ms/step - loss: 0.0104 - mae: 0.0811 - val_loss: 0.0109 - val_mae: 0.0837\n",
            "Epoch 86/100\n",
            "35/35 [==============================] - 0s 8ms/step - loss: 0.0103 - mae: 0.0810 - val_loss: 0.0108 - val_mae: 0.0834\n",
            "Epoch 87/100\n",
            "35/35 [==============================] - 0s 10ms/step - loss: 0.0105 - mae: 0.0821 - val_loss: 0.0108 - val_mae: 0.0834\n",
            "Epoch 88/100\n",
            "35/35 [==============================] - 0s 8ms/step - loss: 0.0102 - mae: 0.0807 - val_loss: 0.0109 - val_mae: 0.0836\n",
            "Epoch 89/100\n",
            "35/35 [==============================] - 0s 13ms/step - loss: 0.0104 - mae: 0.0811 - val_loss: 0.0108 - val_mae: 0.0834\n",
            "Epoch 90/100\n",
            "35/35 [==============================] - 0s 13ms/step - loss: 0.0105 - mae: 0.0814 - val_loss: 0.0120 - val_mae: 0.0877\n",
            "Epoch 91/100\n",
            "35/35 [==============================] - 0s 10ms/step - loss: 0.0106 - mae: 0.0815 - val_loss: 0.0116 - val_mae: 0.0870\n",
            "Epoch 92/100\n",
            "35/35 [==============================] - 0s 5ms/step - loss: 0.0107 - mae: 0.0827 - val_loss: 0.0108 - val_mae: 0.0835\n",
            "Epoch 93/100\n",
            "35/35 [==============================] - 0s 4ms/step - loss: 0.0102 - mae: 0.0808 - val_loss: 0.0112 - val_mae: 0.0847\n",
            "Epoch 94/100\n",
            "35/35 [==============================] - 0s 4ms/step - loss: 0.0106 - mae: 0.0820 - val_loss: 0.0111 - val_mae: 0.0848\n",
            "Epoch 95/100\n",
            "35/35 [==============================] - 0s 4ms/step - loss: 0.0104 - mae: 0.0814 - val_loss: 0.0107 - val_mae: 0.0828\n",
            "Epoch 96/100\n",
            "35/35 [==============================] - 0s 5ms/step - loss: 0.0103 - mae: 0.0806 - val_loss: 0.0107 - val_mae: 0.0830\n",
            "Epoch 97/100\n",
            "35/35 [==============================] - 0s 5ms/step - loss: 0.0102 - mae: 0.0807 - val_loss: 0.0109 - val_mae: 0.0838\n",
            "Epoch 98/100\n",
            "35/35 [==============================] - 0s 5ms/step - loss: 0.0101 - mae: 0.0803 - val_loss: 0.0108 - val_mae: 0.0832\n",
            "Epoch 99/100\n",
            "35/35 [==============================] - 0s 4ms/step - loss: 0.0101 - mae: 0.0801 - val_loss: 0.0112 - val_mae: 0.0847\n",
            "Epoch 100/100\n",
            "35/35 [==============================] - 0s 3ms/step - loss: 0.0102 - mae: 0.0803 - val_loss: 0.0107 - val_mae: 0.0829\n"
          ]
        },
        {
          "output_type": "execute_result",
          "data": {
            "text/plain": [
              "<keras.src.callbacks.History at 0x78da7e8ad2d0>"
            ]
          },
          "metadata": {},
          "execution_count": 100
        }
      ]
    },
    {
      "cell_type": "code",
      "source": [
        "x_test = np.array(0.5*math.pi).astype('float32').reshape(1,1)\n",
        "print(model.predict(x_test))"
      ],
      "metadata": {
        "colab": {
          "base_uri": "https://localhost:8080/"
        },
        "id": "H-ayNnLZLpPu",
        "outputId": "60fa799c-23ae-4550-80fa-69f22933d564"
      },
      "execution_count": null,
      "outputs": [
        {
          "output_type": "stream",
          "name": "stderr",
          "text": [
            "WARNING:tensorflow:6 out of the last 6 calls to <function Model.make_predict_function.<locals>.predict_function at 0x78da889eeb90> triggered tf.function retracing. Tracing is expensive and the excessive number of tracings could be due to (1) creating @tf.function repeatedly in a loop, (2) passing tensors with different shapes, (3) passing Python objects instead of tensors. For (1), please define your @tf.function outside of the loop. For (2), @tf.function has reduce_retracing=True option that can avoid unnecessary retracing. For (3), please refer to https://www.tensorflow.org/guide/function#controlling_retracing and https://www.tensorflow.org/api_docs/python/tf/function for  more details.\n"
          ]
        },
        {
          "output_type": "stream",
          "name": "stdout",
          "text": [
            "1/1 [==============================] - 0s 233ms/step\n",
            "[[0.99056894]]\n"
          ]
        }
      ]
    },
    {
      "cell_type": "code",
      "source": [
        "converter = tf.lite.TFLiteConverter.from_keras_model(model)\n",
        "converter.optimizations = [tf.lite.Optimize.DEFAULT]\n",
        "converter.target_spec.supported_ops = [tf.lite.OpsSet.TFLITE_BUILTINS]\n",
        "tflite_model = converter.convert()\n",
        "open(\"sine_model_quantized.tflite\", \"wb\").write(tflite_model)"
      ],
      "metadata": {
        "colab": {
          "base_uri": "https://localhost:8080/"
        },
        "id": "Omg4LjafNXJX",
        "outputId": "c7ea1293-f70e-4583-dcf4-50216580a670"
      },
      "execution_count": null,
      "outputs": [
        {
          "output_type": "execute_result",
          "data": {
            "text/plain": [
              "4396"
            ]
          },
          "metadata": {},
          "execution_count": 105
        }
      ]
    },
    {
      "cell_type": "code",
      "source": [
        "# #tflite推理\n",
        "\n",
        "x = np.array(0.5*math.pi).astype('float32').reshape(1,1)\n",
        "\n",
        "interpreter = tf.lite.Interpreter(model_path=\"sine_model_quantized.tflite\")\n",
        "input_details = interpreter.get_input_details()\n",
        "output_details = interpreter.get_output_details()\n",
        "\n",
        "\n",
        "interpreter.resize_tensor_input(input_details[0]['index'], x.shape)\n",
        "interpreter.allocate_tensors()\n",
        "\n",
        "interpreter.set_tensor(input_details[0]['index'], x)\n",
        "interpreter.invoke()\n",
        "output_data = interpreter.get_tensor(output_details[0]['index'])\n",
        "\n",
        "print(output_data)\n"
      ],
      "metadata": {
        "colab": {
          "base_uri": "https://localhost:8080/"
        },
        "id": "wKzrzLnFNm_X",
        "outputId": "d11808bb-b4ea-4f1a-931f-f20eff6e1c29"
      },
      "execution_count": null,
      "outputs": [
        {
          "output_type": "stream",
          "name": "stdout",
          "text": [
            "[[0.9905685]]\n"
          ]
        }
      ]
    },
    {
      "cell_type": "code",
      "source": [
        "!apt-get -qq install xxd\n",
        "!xxd -i sine_model_quantized.tflite > sine_model_quantized.cc"
      ],
      "metadata": {
        "id": "dM7Itc95N0R3"
      },
      "execution_count": null,
      "outputs": []
    }
  ]
}